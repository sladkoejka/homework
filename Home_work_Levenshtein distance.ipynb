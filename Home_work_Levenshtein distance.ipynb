{
 "cells": [
  {
   "cell_type": "markdown",
   "metadata": {},
   "source": [
    "# Поиск наиболее близкого имени участника"
   ]
  },
  {
   "cell_type": "code",
   "execution_count": 3,
   "metadata": {},
   "outputs": [
    {
     "name": "stdout",
     "output_type": "stream",
     "text": [
      "Collecting pip\n",
      "  Downloading https://files.pythonhosted.org/packages/30/db/9e38760b32e3e7f40cce46dd5fb107b8c73840df38f0046d8e6514e675a1/pip-19.2.3-py2.py3-none-any.whl (1.4MB)\n",
      "Installing collected packages: pip\n",
      "  Found existing installation: pip 19.2.1\n",
      "    Uninstalling pip-19.2.1:\n",
      "      Successfully uninstalled pip-19.2.1\n",
      "Successfully installed pip-19.2.3\n"
     ]
    }
   ],
   "source": [
    "!python -m pip install --upgrade pip"
   ]
  },
  {
   "cell_type": "code",
   "execution_count": 1,
   "metadata": {},
   "outputs": [
    {
     "name": "stdout",
     "output_type": "stream",
     "text": [
      "Collecting python-levenshtein\n",
      "  Using cached https://files.pythonhosted.org/packages/42/a9/d1785c85ebf9b7dfacd08938dd028209c34a0ea3b1bcdb895208bd40a67d/python-Levenshtein-0.12.0.tar.gz\n",
      "Requirement already satisfied: setuptools in c:\\users\\sladk\\appdata\\local\\programs\\python\\python36\\lib\\site-packages (from python-levenshtein) (41.2.0)\n",
      "Installing collected packages: python-levenshtein\n",
      "  Running setup.py install for python-levenshtein: started\n",
      "    Running setup.py install for python-levenshtein: finished with status 'done'\n",
      "Successfully installed python-levenshtein-0.12.0\n"
     ]
    }
   ],
   "source": [
    "!pip install python-levenshtein"
   ]
  },
  {
   "cell_type": "code",
   "execution_count": 1,
   "metadata": {},
   "outputs": [],
   "source": [
    "# conda install -c conda-forge python-levenshtein\n",
    "# или pip install python-levenshtein\n",
    "\n",
    "import Levenshtein"
   ]
  },
  {
   "cell_type": "code",
   "execution_count": 2,
   "metadata": {},
   "outputs": [],
   "source": [
    "# что было написано в заявке\n",
    "\n",
    "claim_list = [\n",
    "    'Шехавцова Анна',\n",
    "    'Гречихина Наталья',\n",
    "    'Козлова Алена',\n",
    "    'Груздева Алина',\n",
    "    'Кущенко Анна',\n",
    "    'Чистякова Анастасия'\n",
    "]"
   ]
  },
  {
   "cell_type": "code",
   "execution_count": 3,
   "metadata": {},
   "outputs": [],
   "source": [
    "# результат расшифровки речи диктора\n",
    "\n",
    "speech_recognition = [\n",
    "    'кучменко она',\n",
    "    'кущенко оксана',\n",
    "    'груздь алина',\n",
    "    'рычихина наталья',\n",
    "    'шиховцева на',\n",
    "    'чистова анастасия'\n",
    "]"
   ]
  },
  {
   "cell_type": "markdown",
   "metadata": {},
   "source": [
    "### С библиотекой Levenshtein"
   ]
  },
  {
   "cell_type": "code",
   "execution_count": 4,
   "metadata": {},
   "outputs": [
    {
     "data": {
      "text/plain": [
       "4"
      ]
     },
     "execution_count": 4,
     "metadata": {},
     "output_type": "execute_result"
    }
   ],
   "source": [
    "Levenshtein.distance('Оксана', 'Анна')"
   ]
  },
  {
   "cell_type": "code",
   "execution_count": 5,
   "metadata": {},
   "outputs": [
    {
     "name": "stdout",
     "output_type": "stream",
     "text": [
      "кучменко она\n",
      "кущенко оксана\n",
      "груздь алина\n",
      "рычихина наталья\n",
      "шиховцева на\n",
      "чистова анастасия\n"
     ]
    }
   ],
   "source": [
    "for recognized_name in speech_recognition:\n",
    "    print(recognized_name)"
   ]
  },
  {
   "cell_type": "code",
   "execution_count": 21,
   "metadata": {},
   "outputs": [],
   "source": [
    "tru_name = {} # создаем словарь в коттрый будем записывать распознанное имя и наиболее близкое к нему\n",
    "for recognized_name in speech_recognition:\n",
    "    top_list = {} # словарь в котором будем каждому имени считать дистанцию\n",
    "    for real_name in claim_list:\n",
    "        top_list[Levenshtein.distance(recognized_name, real_name)] = real_name\n",
    "    tru_name[recognized_name] = top_list[min(top_list)] # записываем самое близкое имя"
   ]
  },
  {
   "cell_type": "code",
   "execution_count": 22,
   "metadata": {},
   "outputs": [
    {
     "data": {
      "text/plain": [
       "{'кучменко она': 'Кущенко Анна',\n",
       " 'кущенко оксана': 'Кущенко Анна',\n",
       " 'груздь алина': 'Груздева Алина',\n",
       " 'рычихина наталья': 'Гречихина Наталья',\n",
       " 'шиховцева на': 'Шехавцова Анна',\n",
       " 'чистова анастасия': 'Чистякова Анастасия'}"
      ]
     },
     "execution_count": 22,
     "metadata": {},
     "output_type": "execute_result"
    }
   ],
   "source": [
    "tru_name"
   ]
  },
  {
   "cell_type": "markdown",
   "metadata": {},
   "source": [
    "# Пример с распознаванием цифр"
   ]
  },
  {
   "cell_type": "code",
   "execution_count": 23,
   "metadata": {},
   "outputs": [],
   "source": [
    "from sklearn import datasets\n",
    "from sklearn.neighbors import KNeighborsClassifier"
   ]
  },
  {
   "cell_type": "code",
   "execution_count": 24,
   "metadata": {},
   "outputs": [],
   "source": [
    "digits = datasets.load_digits()"
   ]
  },
  {
   "cell_type": "code",
   "execution_count": 25,
   "metadata": {},
   "outputs": [],
   "source": [
    "X_digits = digits.data\n",
    "Y_digits = digits.target"
   ]
  },
  {
   "cell_type": "code",
   "execution_count": 27,
   "metadata": {},
   "outputs": [],
   "source": [
    "from sklearn.model_selection import train_test_split\n",
    "X_train, X_test, y_train, y_test = train_test_split(\n",
    "    X_digits, Y_digits, random_state=0)"
   ]
  },
  {
   "cell_type": "code",
   "execution_count": 36,
   "metadata": {},
   "outputs": [
    {
     "name": "stdout",
     "output_type": "stream",
     "text": [
      "1 0.9911111111111112\n",
      "2 0.9844444444444445\n",
      "3 0.9866666666666667\n",
      "4 0.98\n",
      "5 0.98\n",
      "6 0.9755555555555555\n",
      "7 0.9777777777777777\n",
      "8 0.9777777777777777\n",
      "9 0.9777777777777777\n",
      "10 0.9755555555555555\n",
      "11 0.9733333333333334\n",
      "12 0.9733333333333334\n",
      "13 0.9711111111111111\n",
      "14 0.9711111111111111\n",
      "15 0.9711111111111111\n",
      "16 0.9688888888888889\n",
      "17 0.9622222222222222\n",
      "18 0.9622222222222222\n",
      "19 0.9622222222222222\n",
      "20 0.9644444444444444\n",
      "21 0.9644444444444444\n",
      "22 0.9644444444444444\n",
      "23 0.96\n",
      "24 0.9577777777777777\n",
      "25 0.96\n",
      "26 0.9577777777777777\n",
      "27 0.9577777777777777\n",
      "28 0.9577777777777777\n",
      "29 0.9577777777777777\n"
     ]
    }
   ],
   "source": [
    "for i in range(1,30):\n",
    "    knn = KNeighborsClassifier(n_neighbors = i)\n",
    "    knn.fit(X_train, y_train)\n",
    "    print(f'{i} {knn.score(X_test,y_test)}')   "
   ]
  },
  {
   "cell_type": "markdown",
   "metadata": {},
   "source": [
    "# по одному соседу самый лучший результат получается"
   ]
  },
  {
   "cell_type": "code",
   "execution_count": null,
   "metadata": {},
   "outputs": [],
   "source": []
  }
 ],
 "metadata": {
  "kernelspec": {
   "display_name": "Python 3",
   "language": "python",
   "name": "python3"
  },
  "language_info": {
   "codemirror_mode": {
    "name": "ipython",
    "version": 3
   },
   "file_extension": ".py",
   "mimetype": "text/x-python",
   "name": "python",
   "nbconvert_exporter": "python",
   "pygments_lexer": "ipython3",
   "version": "3.6.8"
  }
 },
 "nbformat": 4,
 "nbformat_minor": 2
}
