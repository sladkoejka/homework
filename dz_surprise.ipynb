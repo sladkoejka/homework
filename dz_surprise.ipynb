{
 "cells": [
  {
   "cell_type": "markdown",
   "metadata": {},
   "source": [
    "1) проверяем как алгоритм работает из коробки"
   ]
  },
  {
   "cell_type": "code",
   "execution_count": 114,
   "metadata": {},
   "outputs": [
    {
     "name": "stdout",
     "output_type": "stream",
     "text": [
      "Dataset ml-1m could not be found. Do you want to download it? [Y/n] y\n",
      "Trying to download dataset from http://files.grouplens.org/datasets/movielens/ml-1m.zip...\n",
      "Done! Dataset ml-1m has been saved to C:\\Users\\sladk/.surprise_data/ml-1m\n",
      "Evaluating RMSE, MAE of algorithm SVD on 5 split(s).\n",
      "\n",
      "                  Fold 1  Fold 2  Fold 3  Fold 4  Fold 5  Mean    Std     \n",
      "RMSE (testset)    0.8747  0.8743  0.8733  0.8726  0.8739  0.8738  0.0007  \n",
      "MAE (testset)     0.6871  0.6861  0.6848  0.6848  0.6861  0.6858  0.0009  \n",
      "Fit time          45.75   47.12   49.60   49.20   50.42   48.42   1.72    \n",
      "Test time         2.00    2.08    2.07    2.30    2.10    2.11    0.10    \n"
     ]
    },
    {
     "data": {
      "text/plain": [
       "{'test_rmse': array([0.87471089, 0.87429734, 0.87334416, 0.87261767, 0.87386812]),\n",
       " 'test_mae': array([0.68712663, 0.68608876, 0.68476445, 0.68482708, 0.6860624 ]),\n",
       " 'fit_time': (45.74750781059265,\n",
       "  47.11930775642395,\n",
       "  49.59854698181152,\n",
       "  49.199400186538696,\n",
       "  50.416555643081665),\n",
       " 'test_time': (2.001891851425171,\n",
       "  2.0812764167785645,\n",
       "  2.0697221755981445,\n",
       "  2.3001458644866943,\n",
       "  2.1029410362243652)}"
      ]
     },
     "execution_count": 114,
     "metadata": {},
     "output_type": "execute_result"
    }
   ],
   "source": [
    "from surprise import SVD\n",
    "from surprise import Dataset\n",
    "from surprise.model_selection import cross_validate\n",
    "\n",
    "\n",
    "# Load the movielens-100k dataset (download it if needed),\n",
    "data = Dataset.load_builtin('ml-1m')\n",
    "\n",
    "# We'll use the famous SVD algorithm.\n",
    "algo = SVD()\n",
    "\n",
    "# Run 5-fold cross-validation and print results\n",
    "cross_validate(algo, data, measures=['RMSE', 'MAE'], cv=5, verbose=True)"
   ]
  },
  {
   "cell_type": "markdown",
   "metadata": {},
   "source": [
    "2) а вот так он работает после введения дополнительных параметров, пробил даже значение 0.86 (но это результат часов экспериментов. Часов, потому что каждая итерация очень долго идёт)"
   ]
  },
  {
   "cell_type": "code",
   "execution_count": 167,
   "metadata": {
    "scrolled": true
   },
   "outputs": [
    {
     "name": "stdout",
     "output_type": "stream",
     "text": [
      "Evaluating RMSE, MAE of algorithm SVD on 5 split(s).\n",
      "\n",
      "                  Fold 1  Fold 2  Fold 3  Fold 4  Fold 5  Mean    Std     \n",
      "RMSE (testset)    0.8568  0.8563  0.8586  0.8580  0.8590  0.8578  0.0010  \n",
      "MAE (testset)     0.6719  0.6710  0.6736  0.6733  0.6727  0.6725  0.0010  \n",
      "Fit time          153.20  156.40  152.81  157.31  160.85  156.11  2.94    \n",
      "Test time         6.47    6.98    5.91    5.80    7.22    6.48    0.56    \n"
     ]
    },
    {
     "data": {
      "text/plain": [
       "{'test_rmse': array([0.85683948, 0.85632492, 0.85862266, 0.8580452 , 0.85896998]),\n",
       " 'test_mae': array([0.67187678, 0.67096123, 0.67359816, 0.67325833, 0.67269641]),\n",
       " 'fit_time': (153.1999545097351,\n",
       "  156.3954062461853,\n",
       "  152.80743408203125,\n",
       "  157.30647158622742,\n",
       "  160.84907031059265),\n",
       " 'test_time': (6.4677183628082275,\n",
       "  6.981235504150391,\n",
       "  5.9103381633758545,\n",
       "  5.80183744430542,\n",
       "  7.222409009933472)}"
      ]
     },
     "execution_count": 167,
     "metadata": {},
     "output_type": "execute_result"
    }
   ],
   "source": [
    "algo =  SVD(n_factors=100, n_epochs =20, init_std_dev=0.023, reg_all=0.005) \n",
    "algo.fit(trainset)\n",
    "cross_validate(algo, data, measures=['RMSE', 'MAE'], cv=5, verbose=True)"
   ]
  },
  {
   "cell_type": "code",
   "execution_count": 168,
   "metadata": {},
   "outputs": [
    {
     "name": "stdout",
     "output_type": "stream",
     "text": [
      "RMSE: 0.8592\n"
     ]
    },
    {
     "data": {
      "text/plain": [
       "0.8592321682541443"
      ]
     },
     "execution_count": 168,
     "metadata": {},
     "output_type": "execute_result"
    }
   ],
   "source": [
    "from surprise import Dataset, Reader, KNNBasic\n",
    "from surprise.model_selection import train_test_split\n",
    "from surprise import accuracy\n",
    "trainset,  testset =  train_test_split( data,  test_size=.25) \n",
    "algo =  SVD(n_factors=100, n_epochs =20, init_std_dev=0.023, reg_all=0.005) \n",
    "algo.fit(trainset)\n",
    "predictions =  algo.test(testset)\n",
    "accuracy.rmse(predictions)"
   ]
  },
  {
   "cell_type": "code",
   "execution_count": null,
   "metadata": {},
   "outputs": [],
   "source": []
  }
 ],
 "metadata": {
  "kernelspec": {
   "display_name": "Python 3",
   "language": "python",
   "name": "python3"
  },
  "language_info": {
   "codemirror_mode": {
    "name": "ipython",
    "version": 3
   },
   "file_extension": ".py",
   "mimetype": "text/x-python",
   "name": "python",
   "nbconvert_exporter": "python",
   "pygments_lexer": "ipython3",
   "version": "3.6.8"
  }
 },
 "nbformat": 4,
 "nbformat_minor": 2
}
