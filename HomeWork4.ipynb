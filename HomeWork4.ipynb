{
 "cells": [
  {
   "cell_type": "code",
   "execution_count": null,
   "metadata": {},
   "outputs": [],
   "source": [
    "Напишите функцию date_range, \n",
    "которая возвращает список дней между датами \n",
    "start_date и end_date. \n",
    "Даты должны вводиться в формате YYYY-MM-DD."
   ]
  },
  {
   "cell_type": "code",
   "execution_count": 33,
   "metadata": {},
   "outputs": [
    {
     "name": "stdout",
     "output_type": "stream",
     "text": [
      "2018-11-12\n",
      "2018-11-13\n",
      "2018-11-14\n",
      "2018-11-15\n",
      "2018-11-16\n",
      "2018-11-17\n",
      "2018-11-18\n",
      "2018-11-19\n",
      "2018-11-20\n"
     ]
    }
   ],
   "source": [
    "from datetime import datetime\n",
    "from datetime import timedelta\n",
    "start_date = '2018-11-12'\n",
    "end_date = '2018-11-20'\n",
    "start_date_dt = datetime.strptime(start_date, '%Y-%m-%d')\n",
    "end_date_dt = datetime.strptime(end_date, '%Y-%m-%d')\n",
    "current_dt = start_date_dt\n",
    "\n",
    "while current_dt <= end_date_dt:\n",
    "    print(current_dt.strftime('%Y-%m-%d'))\n",
    "    current_dt += timedelta(days=1)"
   ]
  },
  {
   "cell_type": "code",
   "execution_count": 6,
   "metadata": {},
   "outputs": [],
   "source": [
    "Дополните функцию из первого задания проверкой на корректность дат.\n",
    "В случае неверного формата или если start_date > end_date должен возвращаться пустой список."
   ]
  },
  {
   "cell_type": "code",
   "execution_count": 51,
   "metadata": {},
   "outputs": [
    {
     "name": "stdout",
     "output_type": "stream",
     "text": [
      "2018-11-12\n",
      "2018-11-13\n",
      "2018-11-14\n",
      "2018-11-15\n",
      "2018-11-16\n",
      "2018-11-17\n",
      "2018-11-18\n",
      "2018-11-19\n",
      "2018-11-20\n"
     ]
    }
   ],
   "source": [
    "from datetime import datetime\n",
    "from datetime import timedelta\n",
    "start_date = '2018-11-12'\n",
    "end_date = '2018-11-20'\n",
    "error_date = 0 # переменная которая в зависимсти от ошибки принимает нужное значение\n",
    "try:\n",
    "    start_date_dt = datetime.strptime(start_date, '%Y-%m-%d')    \n",
    "except ValueError:\n",
    "    error_date = 1\n",
    "try:\n",
    "    end_date_dt = datetime.strptime(end_date, '%Y-%m-%d')\n",
    "except ValueError:\n",
    "    error_date = 2\n",
    "if error_date ==0 and start_date_dt < end_date_dt: # условие проверяет, что не было никаких других ошибок и что начальная дата \n",
    "    # меньше конечной\n",
    "    current_dt = start_date_dt \n",
    "    while current_dt <= end_date_dt:\n",
    "        print(current_dt.strftime('%Y-%m-%d'))\n",
    "        current_dt += timedelta(days=1)\n",
    "elif error_date==1:\n",
    "    print('Начальная дата некорректная')\n",
    "elif error_date==2:\n",
    "    print('Конечная дата некорректная')\n",
    "else:\n",
    "    print('Начальная дата должна быть меньше конечной')"
   ]
  },
  {
   "cell_type": "code",
   "execution_count": null,
   "metadata": {},
   "outputs": [],
   "source": [
    "Дан поток дат в формате YYYY-MM-DD, в которых встречаются некорректные значения:\n",
    "stream = ['2018-04-02', '2018-02-29', '2018-19-02']\n",
    "Напишите функцию, которая проверяет эти даты на корректность. \n",
    "Т. е. для каждой даты возвращает True (дата корректна) или False (некорректная дата)."
   ]
  },
  {
   "cell_type": "code",
   "execution_count": 59,
   "metadata": {},
   "outputs": [
    {
     "name": "stdout",
     "output_type": "stream",
     "text": [
      "2018-04-02 : True\n",
      "2018-02-29 : False\n",
      "2018-19-02 : False\n"
     ]
    }
   ],
   "source": [
    "from datetime import datetime\n",
    "stream = ['2018-04-02', '2018-02-29', '2018-19-02']\n",
    "for i in stream:\n",
    "    try:\n",
    "        datetime.strptime(i, '%Y-%m-%d')\n",
    "        print (i,':', 'True')\n",
    "    except ValueError:\n",
    "        print(i,':','False')\n"
   ]
  },
  {
   "cell_type": "code",
   "execution_count": null,
   "metadata": {},
   "outputs": [],
   "source": [
    "Напишите функцию, которая возвращает список дат с 1 по вчерашний день текущего месяца. \n",
    "Если дан 1 день месяца, то возвращается список дней прошлого месяца."
   ]
  },
  {
   "cell_type": "code",
   "execution_count": null,
   "metadata": {},
   "outputs": [],
   "source": [
    "def mounth_day(cnt):\n",
    "    "
   ]
  },
  {
   "cell_type": "code",
   "execution_count": 179,
   "metadata": {},
   "outputs": [
    {
     "name": "stdout",
     "output_type": "stream",
     "text": [
      "2018-09-01\n",
      "2018-09-02\n",
      "2018-09-03\n",
      "2018-09-04\n",
      "2018-09-05\n",
      "2018-09-06\n",
      "2018-09-07\n",
      "2018-09-08\n",
      "2018-09-09\n",
      "2018-09-10\n",
      "2018-09-11\n",
      "2018-09-12\n",
      "2018-09-13\n",
      "2018-09-14\n",
      "2018-09-15\n",
      "2018-09-16\n",
      "2018-09-17\n",
      "2018-09-18\n",
      "2018-09-19\n",
      "2018-09-20\n"
     ]
    }
   ],
   "source": [
    "def day_month(): # функция возвращает все дни с начала месяца по вчерашний день, если первое число, то весь прошлый месяц\n",
    "    from datetime import datetime # импортируем библиотеку для работы с датами\n",
    "    from datetime import timedelta  # библиотека для вычитания дат.\n",
    "    now=datetime.now()\n",
    "    if now.day==1:\n",
    "        now +=timedelta(days=-now.day)\n",
    "        end_date=now\n",
    "        now +=timedelta(days= -now.day+1)\n",
    "        start_date=now\n",
    "        #print('начало',start_date,' конец',end_date ) # рудимент кода, для просмотра начальной и конечно даты\n",
    "    else:\n",
    "        end_date = datetime.now()\n",
    "        end_date+=timedelta(days=-1)\n",
    "        start_date=datetime.now()\n",
    "        start_date +=timedelta(days=-start_date.day+1)\n",
    "        #print('начало',start_date,' конец',end_date ) # рудимент кода, для просмотра начальной и конечно даты\n",
    "    current_dt = start_date\n",
    "\n",
    "    while current_dt <= end_date:\n",
    "        print(current_dt.strftime('%Y-%m-%d'))\n",
    "        current_dt += timedelta(days=1)\n",
    "day_month()"
   ]
  },
  {
   "cell_type": "code",
   "execution_count": null,
   "metadata": {},
   "outputs": [],
   "source": [
    "Напишите функцию, которая возвращает точную дату в формате YYYY-MM-DD по фразе:\n",
    "1. 'today' - сегодняшнюю дату\n",
    "2. 'last monday' -  прошлый понедельник\n",
    "3. 'last day' - Последний день текущего месяца"
   ]
  },
  {
   "cell_type": "code",
   "execution_count": 270,
   "metadata": {},
   "outputs": [],
   "source": [
    "#данная функция принимает на вход три условия и в зависимости от них возвращает нужное значение:\n",
    "#1. 'today' - сегодняшнюю дату\n",
    "#2. 'last monday' -  прошлый понедельник\n",
    "#3. 'last day' - Последний день текущего месяца\n",
    "def three_days(us):\n",
    "    from datetime import datetime # импортируем библиотеку для работы с датами\n",
    "    from datetime import timedelta  # библиотека для вычитания дат.\n",
    "    import calendar # импортируем библиотеку календарь, для просмотра сколько дней в текущем месяце.\n",
    "    if us == 'today':\n",
    "        now=datetime.now()\n",
    "        print('сегодня', now.day , 'число\\nмесяц номер:',now.month, '\\nГод:', now.year)\n",
    "    elif us == 'last monday':\n",
    "        now=datetime.now()\n",
    "        week_day=now.weekday()\n",
    "        now += timedelta(days= -week_day-7)\n",
    "        print('прошлый понедельник был', week_day+7 , 'дней назад\\n',now.day, 'числа\\n', now.month,'месяца')\n",
    "    elif us == 'last day':\n",
    "        now = datetime.now()\n",
    "        days_in_month = calendar.monthrange(now.year, now.month)[1]\n",
    "        print ('в этом месяце',days_in_month,'дней')      \n",
    "    else:\n",
    "        print('Введите пожалуйста в кавычках один из следующих запросов','\\n',\n",
    "              'today - сегодняшнюю дату' ,'\\n', \n",
    "              'last monday -  прошлый понедельник','\\n',  \n",
    "              'last day - Последний день текущего месяца')"
   ]
  },
  {
   "cell_type": "code",
   "execution_count": 271,
   "metadata": {},
   "outputs": [
    {
     "name": "stdout",
     "output_type": "stream",
     "text": [
      "сегодня 21 число\n",
      "месяц номер: 9 \n",
      "Год: 2018\n"
     ]
    }
   ],
   "source": [
    "three_days('today')"
   ]
  },
  {
   "cell_type": "code",
   "execution_count": null,
   "metadata": {},
   "outputs": [],
   "source": [
    "Напишите функцию, которая разбивает на недели с понедельника по воскресенье интервал дат между start_date и end_date. \n",
    "Считайте, что входные данные всегда корректны. В ответ должны входить только полные недели."
   ]
  },
  {
   "cell_type": "code",
   "execution_count": null,
   "metadata": {},
   "outputs": [],
   "source": []
  },
  {
   "cell_type": "code",
   "execution_count": null,
   "metadata": {},
   "outputs": [],
   "source": []
  }
 ],
 "metadata": {
  "kernelspec": {
   "display_name": "Python 3",
   "language": "python",
   "name": "python3"
  },
  "language_info": {
   "codemirror_mode": {
    "name": "ipython",
    "version": 3
   },
   "file_extension": ".py",
   "mimetype": "text/x-python",
   "name": "python",
   "nbconvert_exporter": "python",
   "pygments_lexer": "ipython3",
   "version": "3.6.5"
  }
 },
 "nbformat": 4,
 "nbformat_minor": 2
}
